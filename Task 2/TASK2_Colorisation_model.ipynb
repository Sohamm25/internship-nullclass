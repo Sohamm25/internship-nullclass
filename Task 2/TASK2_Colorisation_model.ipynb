{
  "cells": [
    {
      "cell_type": "markdown",
      "metadata": {
        "id": "WHaeh_gHoirq"
      },
      "source": [
        "# From Soham Pawar - Colorization Model Training on CIFAR-10 as teached and inspired from the training program\n",
        "\n",
        "- **Evaluation Metric:**  \n",
        "  We use Mean Squared Error (MSE) as our sole evaluation metric because colorization is a regression task. Metrics like confusion matrix, precision, recall, and accuracy are more suitable for classification/segmentation tasks.\n",
        "\n",
        "- **Model Creation Logic:**  \n",
        "  This notebook builds a colorization model from scratch using the CIFAR-10 dataset. The model is an encoder–decoder network that predicts the ab channels from the L channel of LAB images. The network is trained with MSE loss, and both the model weights and the complete model are saved for future use.\n"
      ],
      "id": "WHaeh_gHoirq"
    },
    {
      "cell_type": "code",
      "execution_count": 1,
      "id": "81a9a44e",
      "metadata": {
        "id": "81a9a44e"
      },
      "outputs": [],
      "source": [
        "import torch\n",
        "import torch.nn as nn\n",
        "import torch.optim as optim\n",
        "import torchvision\n",
        "import numpy as np\n",
        "from skimage import color\n",
        "from tqdm import tqdm\n",
        "torch.manual_seed(42)\n",
        "import random\n",
        "random.seed(42)\n",
        "import numpy as np\n",
        "np.random.seed(42)"
      ]
    },
    {
      "cell_type": "code",
      "execution_count": 2,
      "id": "49f8dd9c",
      "metadata": {
        "id": "49f8dd9c",
        "colab": {
          "base_uri": "https://localhost:8080/"
        },
        "outputId": "085a690c-caea-44ab-d77d-e0c6e1a759ea"
      },
      "outputs": [
        {
          "output_type": "stream",
          "name": "stderr",
          "text": [
            "100%|██████████| 170M/170M [00:13<00:00, 12.6MB/s]\n"
          ]
        }
      ],
      "source": [
        "import torchvision.transforms as transforms\n",
        "from torch.utils.data import Dataset, DataLoader\n",
        "class CIFAR10Colorization(Dataset):\n",
        "    def __init__(self, train=True):\n",
        "        # this is to download CIFAR-10\n",
        "        self.dataset = torchvision.datasets.CIFAR10(root='./data', train=train, download=True)\n",
        "\n",
        "    def __len__(self):\n",
        "        return len(self.dataset)\n",
        "\n",
        "    def __getitem__(self, idx):\n",
        "        image, _ = self.dataset[idx]  # we ignore the label\n",
        "        image_np = np.array(image)\n",
        "        # here we normalize to [0, 1] for skimage\n",
        "        image_float = image_np.astype(np.float32) / 255.0\n",
        "        lab = color.rgb2lab(image_float)\n",
        "        L = lab[:, :, 0] / 100.0\n",
        "        ab = lab[:, :, 1:] / 128.0\n",
        "        # and then convert to torch tensors\n",
        "        L_tensor = torch.from_numpy(L).unsqueeze(0).float()  # shape: (1, H, W)\n",
        "        ab_tensor = torch.from_numpy(ab).permute(2, 0, 1).float()  # shape: (2, H, W)\n",
        "        return L_tensor, ab_tensor\n",
        "\n",
        "# here i have created training and validation datasets\n",
        "train_dataset = CIFAR10Colorization(train=True)\n",
        "val_dataset = CIFAR10Colorization(train=False)\n",
        "\n",
        "train_loader = DataLoader(train_dataset, batch_size=128, shuffle=True, num_workers=2)\n",
        "val_loader = DataLoader(val_dataset, batch_size=128, shuffle=False, num_workers=2)"
      ]
    },
    {
      "cell_type": "code",
      "execution_count": 3,
      "id": "fb8a1f30",
      "metadata": {
        "id": "fb8a1f30"
      },
      "outputs": [],
      "source": [
        "class ColorizationNet(nn.Module):\n",
        "    def __init__(self):\n",
        "        super(ColorizationNet, self).__init__()\n",
        "        self.encoder = nn.Sequential(\n",
        "            nn.Conv2d(1, 64, kernel_size=3, padding=1),\n",
        "            nn.ReLU(),\n",
        "            nn.Conv2d(64, 128, kernel_size=3, padding=1),\n",
        "            nn.ReLU(),\n",
        "            nn.MaxPool2d(2)  # downsampleed: 32x32 -> 16x16\n",
        "        )\n",
        "        self.decoder = nn.Sequential(\n",
        "            nn.ConvTranspose2d(128, 64, kernel_size=3, stride=2, padding=1, output_padding=1),  # upsampled: 16x16 -> 32x32\n",
        "            nn.ReLU(),\n",
        "            nn.Conv2d(64, 2, kernel_size=3, padding=1),\n",
        "            nn.Tanh()\n",
        "        )\n",
        "\n",
        "    def forward(self, x):\n",
        "        features = self.encoder(x)\n",
        "        ab_channels = self.decoder(features)\n",
        "        return ab_channels"
      ]
    },
    {
      "cell_type": "code",
      "execution_count": 4,
      "id": "742ac1c5",
      "metadata": {
        "colab": {
          "base_uri": "https://localhost:8080/"
        },
        "id": "742ac1c5",
        "outputId": "34a1c299-c8d4-4aac-c38a-ec4f2210a726"
      },
      "outputs": [
        {
          "output_type": "stream",
          "name": "stdout",
          "text": [
            "Training on device: cuda\n"
          ]
        }
      ],
      "source": [
        "device = torch.device(\"cuda\" if torch.cuda.is_available() else \"cpu\")\n",
        "model = ColorizationNet().to(device)\n",
        "# using Mean Squared Error Loss\n",
        "criterion = nn.MSELoss()\n",
        "# Adam optimizer\n",
        "optimizer = optim.Adam(model.parameters(), lr=1e-3)\n",
        "print(f\"Training on device: {device}\")"
      ]
    },
    {
      "cell_type": "code",
      "execution_count": 5,
      "id": "ef9910aa",
      "metadata": {
        "colab": {
          "base_uri": "https://localhost:8080/"
        },
        "id": "ef9910aa",
        "outputId": "37996553-6f1f-4c5a-c466-f00bd176b090"
      },
      "outputs": [
        {
          "output_type": "stream",
          "name": "stderr",
          "text": [
            "Epoch 1/10: 100%|██████████| 391/391 [00:23<00:00, 16.87it/s]\n"
          ]
        },
        {
          "output_type": "stream",
          "name": "stdout",
          "text": [
            "Epoch 1/10 -- Train Loss: 0.0106, Val Loss: 0.0104\n"
          ]
        },
        {
          "output_type": "stream",
          "name": "stderr",
          "text": [
            "Epoch 2/10: 100%|██████████| 391/391 [00:21<00:00, 18.10it/s]\n"
          ]
        },
        {
          "output_type": "stream",
          "name": "stdout",
          "text": [
            "Epoch 2/10 -- Train Loss: 0.0101, Val Loss: 0.0099\n"
          ]
        },
        {
          "output_type": "stream",
          "name": "stderr",
          "text": [
            "Epoch 3/10: 100%|██████████| 391/391 [00:21<00:00, 18.26it/s]\n"
          ]
        },
        {
          "output_type": "stream",
          "name": "stdout",
          "text": [
            "Epoch 3/10 -- Train Loss: 0.0099, Val Loss: 0.0098\n"
          ]
        },
        {
          "output_type": "stream",
          "name": "stderr",
          "text": [
            "Epoch 4/10: 100%|██████████| 391/391 [00:21<00:00, 18.03it/s]\n"
          ]
        },
        {
          "output_type": "stream",
          "name": "stdout",
          "text": [
            "Epoch 4/10 -- Train Loss: 0.0098, Val Loss: 0.0097\n"
          ]
        },
        {
          "output_type": "stream",
          "name": "stderr",
          "text": [
            "Epoch 5/10: 100%|██████████| 391/391 [00:22<00:00, 17.76it/s]\n"
          ]
        },
        {
          "output_type": "stream",
          "name": "stdout",
          "text": [
            "Epoch 5/10 -- Train Loss: 0.0097, Val Loss: 0.0096\n"
          ]
        },
        {
          "output_type": "stream",
          "name": "stderr",
          "text": [
            "Epoch 6/10: 100%|██████████| 391/391 [00:21<00:00, 18.05it/s]\n"
          ]
        },
        {
          "output_type": "stream",
          "name": "stdout",
          "text": [
            "Epoch 6/10 -- Train Loss: 0.0097, Val Loss: 0.0097\n"
          ]
        },
        {
          "output_type": "stream",
          "name": "stderr",
          "text": [
            "Epoch 7/10: 100%|██████████| 391/391 [00:22<00:00, 17.56it/s]\n"
          ]
        },
        {
          "output_type": "stream",
          "name": "stdout",
          "text": [
            "Epoch 7/10 -- Train Loss: 0.0097, Val Loss: 0.0096\n"
          ]
        },
        {
          "output_type": "stream",
          "name": "stderr",
          "text": [
            "Epoch 8/10: 100%|██████████| 391/391 [00:21<00:00, 17.90it/s]\n"
          ]
        },
        {
          "output_type": "stream",
          "name": "stdout",
          "text": [
            "Epoch 8/10 -- Train Loss: 0.0096, Val Loss: 0.0096\n"
          ]
        },
        {
          "output_type": "stream",
          "name": "stderr",
          "text": [
            "Epoch 9/10: 100%|██████████| 391/391 [00:21<00:00, 17.80it/s]\n"
          ]
        },
        {
          "output_type": "stream",
          "name": "stdout",
          "text": [
            "Epoch 9/10 -- Train Loss: 0.0096, Val Loss: 0.0095\n"
          ]
        },
        {
          "output_type": "stream",
          "name": "stderr",
          "text": [
            "Epoch 10/10: 100%|██████████| 391/391 [00:22<00:00, 17.75it/s]\n"
          ]
        },
        {
          "output_type": "stream",
          "name": "stdout",
          "text": [
            "Epoch 10/10 -- Train Loss: 0.0096, Val Loss: 0.0095\n"
          ]
        }
      ],
      "source": [
        "num_epochs = 10\n",
        "\n",
        "for epoch in range(num_epochs):\n",
        "    model.train()\n",
        "    train_loss = 0.0\n",
        "\n",
        "    for L_tensor, ab_tensor in tqdm(train_loader, desc=f\"Epoch {epoch+1}/{num_epochs}\"):\n",
        "        L_tensor, ab_tensor = L_tensor.to(device), ab_tensor.to(device)\n",
        "        optimizer.zero_grad()\n",
        "        output = model(L_tensor)\n",
        "        loss = criterion(output, ab_tensor)\n",
        "        loss.backward()\n",
        "        optimizer.step()\n",
        "        train_loss += loss.item() * L_tensor.size(0)\n",
        "\n",
        "    train_loss /= len(train_loader.dataset)\n",
        "\n",
        "    # now to evaluate on validation set\n",
        "    model.eval()\n",
        "    val_loss = 0.0\n",
        "    with torch.no_grad():\n",
        "        for L_tensor, ab_tensor in val_loader:\n",
        "            L_tensor, ab_tensor = L_tensor.to(device), ab_tensor.to(device)\n",
        "            output = model(L_tensor)\n",
        "            loss = criterion(output, ab_tensor)\n",
        "            val_loss += loss.item() * L_tensor.size(0)\n",
        "    val_loss /= len(val_loader.dataset)\n",
        "\n",
        "    print(f\"Epoch {epoch+1}/{num_epochs} -- Train Loss: {train_loss:.4f}, Val Loss: {val_loss:.4f}\")"
      ]
    },
    {
      "cell_type": "markdown",
      "metadata": {
        "id": "RMp7K7B7oiry"
      },
      "source": [
        "## Saving the Model\n",
        "here the model are saved"
      ],
      "id": "RMp7K7B7oiry"
    },
    {
      "cell_type": "code",
      "execution_count": 6,
      "id": "731b445a",
      "metadata": {
        "colab": {
          "base_uri": "https://localhost:8080/"
        },
        "id": "731b445a",
        "outputId": "3f8617c2-c94c-457c-e874-83871d3709c2"
      },
      "outputs": [
        {
          "output_type": "stream",
          "name": "stdout",
          "text": [
            "Model saved as colorization_model_weights.pth and colorization_model_complete.pth\n"
          ]
        }
      ],
      "source": [
        "# save only the model weights\n",
        "torch.save(model.state_dict(), \"colorization_model_weights.pth\")\n",
        "# save the complete model\n",
        "torch.save(model, \"colorization_model_complete.pth\")\n",
        "print(\"Model saved as colorization_model_weights.pth and colorization_model_complete.pth\")"
      ]
    },
    {
      "cell_type": "markdown",
      "metadata": {
        "id": "dT5_EmIsoiry"
      },
      "source": [
        "## To download these files:\n",
        " i have to run this code down below also works only if using on colab."
      ],
      "id": "dT5_EmIsoiry"
    },
    {
      "cell_type": "code",
      "execution_count": 7,
      "id": "ad1fa7a5",
      "metadata": {
        "colab": {
          "base_uri": "https://localhost:8080/",
          "height": 52
        },
        "id": "ad1fa7a5",
        "outputId": "157f7fc6-14c8-4715-d119-9523c98b1704"
      },
      "outputs": [
        {
          "output_type": "stream",
          "name": "stdout",
          "text": [
            "Downloading model weights...\n"
          ]
        },
        {
          "output_type": "display_data",
          "data": {
            "text/plain": [
              "<IPython.core.display.Javascript object>"
            ],
            "application/javascript": [
              "\n",
              "    async function download(id, filename, size) {\n",
              "      if (!google.colab.kernel.accessAllowed) {\n",
              "        return;\n",
              "      }\n",
              "      const div = document.createElement('div');\n",
              "      const label = document.createElement('label');\n",
              "      label.textContent = `Downloading \"${filename}\": `;\n",
              "      div.appendChild(label);\n",
              "      const progress = document.createElement('progress');\n",
              "      progress.max = size;\n",
              "      div.appendChild(progress);\n",
              "      document.body.appendChild(div);\n",
              "\n",
              "      const buffers = [];\n",
              "      let downloaded = 0;\n",
              "\n",
              "      const channel = await google.colab.kernel.comms.open(id);\n",
              "      // Send a message to notify the kernel that we're ready.\n",
              "      channel.send({})\n",
              "\n",
              "      for await (const message of channel.messages) {\n",
              "        // Send a message to notify the kernel that we're ready.\n",
              "        channel.send({})\n",
              "        if (message.buffers) {\n",
              "          for (const buffer of message.buffers) {\n",
              "            buffers.push(buffer);\n",
              "            downloaded += buffer.byteLength;\n",
              "            progress.value = downloaded;\n",
              "          }\n",
              "        }\n",
              "      }\n",
              "      const blob = new Blob(buffers, {type: 'application/binary'});\n",
              "      const a = document.createElement('a');\n",
              "      a.href = window.URL.createObjectURL(blob);\n",
              "      a.download = filename;\n",
              "      div.appendChild(a);\n",
              "      a.click();\n",
              "      div.remove();\n",
              "    }\n",
              "  "
            ]
          },
          "metadata": {}
        },
        {
          "output_type": "display_data",
          "data": {
            "text/plain": [
              "<IPython.core.display.Javascript object>"
            ],
            "application/javascript": [
              "download(\"download_4e390989-06ed-4535-bdf5-5db714788a46\", \"colorization_model_weights.pth\", 601572)"
            ]
          },
          "metadata": {}
        },
        {
          "output_type": "stream",
          "name": "stdout",
          "text": [
            "Downloading complete model...\n"
          ]
        },
        {
          "output_type": "display_data",
          "data": {
            "text/plain": [
              "<IPython.core.display.Javascript object>"
            ],
            "application/javascript": [
              "\n",
              "    async function download(id, filename, size) {\n",
              "      if (!google.colab.kernel.accessAllowed) {\n",
              "        return;\n",
              "      }\n",
              "      const div = document.createElement('div');\n",
              "      const label = document.createElement('label');\n",
              "      label.textContent = `Downloading \"${filename}\": `;\n",
              "      div.appendChild(label);\n",
              "      const progress = document.createElement('progress');\n",
              "      progress.max = size;\n",
              "      div.appendChild(progress);\n",
              "      document.body.appendChild(div);\n",
              "\n",
              "      const buffers = [];\n",
              "      let downloaded = 0;\n",
              "\n",
              "      const channel = await google.colab.kernel.comms.open(id);\n",
              "      // Send a message to notify the kernel that we're ready.\n",
              "      channel.send({})\n",
              "\n",
              "      for await (const message of channel.messages) {\n",
              "        // Send a message to notify the kernel that we're ready.\n",
              "        channel.send({})\n",
              "        if (message.buffers) {\n",
              "          for (const buffer of message.buffers) {\n",
              "            buffers.push(buffer);\n",
              "            downloaded += buffer.byteLength;\n",
              "            progress.value = downloaded;\n",
              "          }\n",
              "        }\n",
              "      }\n",
              "      const blob = new Blob(buffers, {type: 'application/binary'});\n",
              "      const a = document.createElement('a');\n",
              "      a.href = window.URL.createObjectURL(blob);\n",
              "      a.download = filename;\n",
              "      div.appendChild(a);\n",
              "      a.click();\n",
              "      div.remove();\n",
              "    }\n",
              "  "
            ]
          },
          "metadata": {}
        },
        {
          "output_type": "display_data",
          "data": {
            "text/plain": [
              "<IPython.core.display.Javascript object>"
            ],
            "application/javascript": [
              "download(\"download_431a6fc5-5b3c-4a3e-8c40-19212ed5cab8\", \"colorization_model_complete.pth\", 604656)"
            ]
          },
          "metadata": {}
        }
      ],
      "source": [
        "try:\n",
        "    from google.colab import files\n",
        "    print(\"Downloading model weights...\")\n",
        "    files.download(\"colorization_model_weights.pth\")\n",
        "    print(\"Downloading complete model...\")\n",
        "    files.download(\"colorization_model_complete.pth\")\n",
        "except ImportError:\n",
        "    print(\"Not running in Colab; skip file download step.\")"
      ]
    },
    {
      "cell_type": "code",
      "execution_count": 8,
      "id": "edc76b90",
      "metadata": {
        "colab": {
          "base_uri": "https://localhost:8080/",
          "height": 411
        },
        "id": "edc76b90",
        "outputId": "e840759b-3aed-481d-cef6-1fe92b32d81f"
      },
      "outputs": [
        {
          "output_type": "display_data",
          "data": {
            "text/plain": [
              "<Figure size 1000x500 with 2 Axes>"
            ],
            "image/png": "[encoded data removed]"
          },
          "metadata": {}
        }
      ],
      "source": [
        "# setting model to evaluation mode\n",
        "model.eval()\n",
        "import matplotlib.pyplot as plt\n",
        "with torch.no_grad():\n",
        "    L_tensor, ab_tensor = val_dataset[0]  # first sample\n",
        "    L_tensor_input = L_tensor.unsqueeze(0).to(device)\n",
        "    pred_ab = model(L_tensor_input).cpu().squeeze(0)\n",
        "\n",
        "L_np = L_tensor.squeeze(0).numpy() * 100.0  # scale back to [0, 100]\n",
        "pred_ab_np = pred_ab.numpy() * 128.0\n",
        "lab_reconstructed = np.zeros((32, 32, 3))\n",
        "lab_reconstructed[:, :, 0] = L_np\n",
        "lab_reconstructed[:, :, 1:] = np.transpose(pred_ab_np, (1, 2, 0))\n",
        "rgb_reconstructed = np.clip(color.lab2rgb(lab_reconstructed.astype(np.float64)), 0, 1)\n",
        "original_img = np.array(val_dataset.dataset[0][0])\n",
        "\n",
        "plt.figure(figsize=(10, 5))\n",
        "plt.subplot(1, 2, 1)\n",
        "plt.imshow(original_img)\n",
        "plt.title(\"Original Image\")\n",
        "plt.axis('off')\n",
        "\n",
        "plt.subplot(1, 2, 2)\n",
        "plt.imshow(rgb_reconstructed)\n",
        "plt.title(\"Colorized Image\")\n",
        "plt.axis('off')\n",
        "\n",
        "plt.show()"
      ]
    },
    {
      "cell_type": "code",
      "source": [],
      "metadata": {
        "id": "ZdLlXXAhqDTF"
      },
      "id": "ZdLlXXAhqDTF",
      "execution_count": 8,
      "outputs": []
    }
  ],
  "metadata": {
    "colab": {
      "provenance": [],
      "gpuType": "T4"
    },
    "kernelspec": {
      "display_name": "Python 3",
      "name": "python3"
    },
    "language_info": {
      "name": "python"
    },
    "accelerator": "GPU"
  },
  "nbformat": 4,
  "nbformat_minor": 5
}